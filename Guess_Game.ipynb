{
  "nbformat": 4,
  "nbformat_minor": 0,
  "metadata": {
    "colab": {
      "name": "Guess Game",
      "provenance": [],
      "collapsed_sections": [],
      "authorship_tag": "ABX9TyOX1/DfJWewTJ+YNigfTIMM",
      "include_colab_link": true
    },
    "kernelspec": {
      "name": "python3",
      "display_name": "Python 3"
    }
  },
  "cells": [
    {
      "cell_type": "markdown",
      "metadata": {
        "id": "view-in-github",
        "colab_type": "text"
      },
      "source": [
        "<a href=\"https://colab.research.google.com/github/MaheswariKumar/Guess-Game/blob/main/Guess_Game.ipynb\" target=\"_parent\"><img src=\"https://colab.research.google.com/assets/colab-badge.svg\" alt=\"Open In Colab\"/></a>"
      ]
    },
    {
      "cell_type": "markdown",
      "metadata": {
        "id": "jkHm-BN0hQeA"
      },
      "source": [
        "**Guess Game**"
      ]
    },
    {
      "cell_type": "code",
      "metadata": {
        "colab": {
          "base_uri": "https://localhost:8080/"
        },
        "id": "Qg3VteaWg8PW",
        "outputId": "538a4e4b-42cc-4de0-dc86-cc5731d79eee"
      },
      "source": [
        "# First ask the user to give their name\r\n",
        "Name = input(\"Enter your name: \")\r\n",
        "\r\n",
        "print(\"Welcome\", Name, \"Start your game\")\r\n",
        "\r\n",
        "#Creating a secret word\r\n",
        "secret_word = \"python\"\r\n",
        "\r\n",
        "#Fixing a limit to find the secret word\r\n",
        "guess_limit = 12\r\n",
        "\r\n",
        "guesses = \" \"\r\n",
        "\r\n",
        "while guess_limit > 0:\r\n",
        "\r\n",
        "  #Count the number of time user failed \r\n",
        "  guess_count = 0\r\n",
        "\r\n",
        "  #Creating loop\r\n",
        "  for char in secret_word:\r\n",
        "    if char in guesses:\r\n",
        "      print(char)\r\n",
        "    else:\r\n",
        "      print(\"_\")\r\n",
        "      \r\n",
        "      #Increment the guess_count\r\n",
        "      guess_count += 1\r\n",
        "  if guess_count == 0:\r\n",
        "\r\n",
        "    #if guess_count 0 means the user won the game\r\n",
        "    print(\"you win\")\r\n",
        "    print(\"the word is :\",secret_word)\r\n",
        "    break\r\n",
        "\r\n",
        "  #if user giving wrong input we will ask the user to give another input\r\n",
        "  guess = input(\"enter your guess: \")\r\n",
        "  guesses += guess\r\n",
        "\r\n",
        "  # check input with the character in word \r\n",
        "  if guess not in secret_word:\r\n",
        "    guess_limit -= 1\r\n",
        "    print(\"wrong, you have\", guess_limit, \"chances\")\r\n",
        "\r\n",
        "  if guess_limit == 0:\r\n",
        "    print(\"you loose\")\r\n"
      ],
      "execution_count": null,
      "outputs": [
        {
          "output_type": "stream",
          "text": [
            "Enter your name: Mahi\n",
            "Welcome Mahi Start your game\n",
            "_\n",
            "_\n",
            "_\n",
            "_\n",
            "_\n",
            "_\n",
            "enter your guess: h\n",
            "_\n",
            "_\n",
            "_\n",
            "h\n",
            "_\n",
            "_\n",
            "enter your guess: i\n",
            "wrong, you have 11 chances\n",
            "_\n",
            "_\n",
            "_\n",
            "h\n",
            "_\n",
            "_\n",
            "enter your guess: t\n",
            "_\n",
            "_\n",
            "t\n",
            "h\n",
            "_\n",
            "_\n",
            "enter your guess: python\n",
            "p\n",
            "y\n",
            "t\n",
            "h\n",
            "o\n",
            "n\n",
            "you win\n",
            "the word is : python\n"
          ],
          "name": "stdout"
        }
      ]
    },
    {
      "cell_type": "markdown",
      "metadata": {
        "id": "gQeqvwARiYRE"
      },
      "source": [
        "**Guessing word game randomly**"
      ]
    },
    {
      "cell_type": "code",
      "metadata": {
        "id": "WEoIMpc2iWm8"
      },
      "source": [
        "import random \r\n",
        "# library that we use in order to choose \r\n",
        "# on random words from a list of words \r\n",
        "\r\n",
        "name = input(\"What is your name? \") \r\n",
        "# Here the user is asked to enter the name first \r\n",
        "\r\n",
        "print(\"Good Luck ! \", name) \r\n",
        "\r\n",
        "words = ['rainbow', 'computer', 'science', 'programming', \r\n",
        "\t\t'python', 'mathematics', 'player', 'condition', \r\n",
        "\t\t'reverse', 'water', 'board', 'geeks'] \r\n",
        "\r\n",
        "# Function will choose one random \r\n",
        "# word from this list of words \r\n",
        "word = random.choice(words) \r\n",
        "\r\n",
        "\r\n",
        "print(\"Guess the characters\") \r\n",
        "\r\n",
        "guesses = '' \r\n",
        "\r\n",
        "# any number of turns can be used here \r\n",
        "turns = 12\r\n",
        "\r\n",
        "\r\n",
        "while turns > 0: \r\n",
        "\t\r\n",
        "\t# counts the number of times a user fails \r\n",
        "\tfailed = 0\r\n",
        "\t\r\n",
        "\t# all characters from the input \r\n",
        "\t# word taking one at a time. \r\n",
        "\tfor char in word: \r\n",
        "\t\t\r\n",
        "\t\t# comparing that character with \r\n",
        "\t\t# the character in guesses \r\n",
        "\t\tif char in guesses: \r\n",
        "\t\t\tprint(char) \r\n",
        "\t\t\t\r\n",
        "\t\telse: \r\n",
        "\t\t\tprint(\"_\") \r\n",
        "\t\t\t\r\n",
        "\t\t\t# for every failure 1 will be \r\n",
        "\t\t\t# incremented in failure \r\n",
        "\t\t\tfailed += 1\r\n",
        "\t\t\t\r\n",
        "\r\n",
        "\tif failed == 0: \r\n",
        "\t\t# user will win the game if failure is 0 \r\n",
        "\t\t# and 'You Win' will be given as output \r\n",
        "\t\tprint(\"You Win\") \r\n",
        "\t\t\r\n",
        "\t\t# this print the correct word \r\n",
        "\t\tprint(\"The word is: \", word) \r\n",
        "\t\tbreak\r\n",
        "\t\r\n",
        "\t# if user has input the wrong alphabet then \r\n",
        "\t# it will ask user to enter another alphabet \r\n",
        "\tguess = input(\"guess a character:\") \r\n",
        "\t\r\n",
        "\t# every input character will be stored in guesses \r\n",
        "\tguesses += guess \r\n",
        "\t\r\n",
        "\t# check input with the character in word \r\n",
        "\tif guess not in word: \r\n",
        "\t\t\r\n",
        "\t\tturns -= 1\r\n",
        "\t\t\r\n",
        "\t\t# if the character doesn’t match the word \r\n",
        "\t\t# then “Wrong” will be given as output \r\n",
        "\t\tprint(\"Wrong\") \r\n",
        "\t\t\r\n",
        "\t\t# this will print the number of \r\n",
        "\t\t# turns left for the user \r\n",
        "\t\tprint(\"You have\", + turns, 'more guesses') \r\n",
        "\t\t\r\n",
        "\t\t\r\n",
        "\t\tif turns == 0: \r\n",
        "\t\t\tprint(\"You Loose\") \r\n"
      ],
      "execution_count": null,
      "outputs": []
    }
  ]
}